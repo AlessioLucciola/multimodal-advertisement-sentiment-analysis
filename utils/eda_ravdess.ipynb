{
 "cells": [
  {
   "cell_type": "code",
   "execution_count": 19,
   "metadata": {},
   "outputs": [],
   "source": [
    "import pandas as pd"
   ]
  },
  {
   "cell_type": "code",
   "execution_count": 17,
   "metadata": {},
   "outputs": [],
   "source": [
    "import sys\n",
    "ROOT = '../'\n",
    "sys.path.append(ROOT)  # Add the root folder to the sys.path\n",
    "\n",
    "# Import the modules\n",
    "from config import *\n",
    "from dataloaders.ravdess_custom_dataloader import ravdess_custom_dataloader\n",
    "\n",
    "\n",
    "# Reload the configuration\n",
    "from importlib import reload\n",
    "reload(sys.modules['config'])\n",
    "reload(sys.modules['dataloaders.ravdess_custom_dataloader'])\n",
    "\n",
    "# Import the reloaded modules\n",
    "from config import *\n",
    "from dataloaders.ravdess_custom_dataloader import ravdess_custom_dataloader\n"
   ]
  },
  {
   "cell_type": "code",
   "execution_count": 20,
   "metadata": {},
   "outputs": [],
   "source": [
    "# Load metadata csv\n",
    "video_metadata = pd.read_csv(\"../\"+VIDEO_METADATA_CSV)\n",
    "frames_metadata = pd.read_csv(\"../\"+VIDEO_METADATA_FRAMES_CSV)"
   ]
  },
  {
   "cell_type": "code",
   "execution_count": 21,
   "metadata": {},
   "outputs": [
    {
     "data": {
      "text/html": [
       "<div>\n",
       "<style scoped>\n",
       "    .dataframe tbody tr th:only-of-type {\n",
       "        vertical-align: middle;\n",
       "    }\n",
       "\n",
       "    .dataframe tbody tr th {\n",
       "        vertical-align: top;\n",
       "    }\n",
       "\n",
       "    .dataframe thead th {\n",
       "        text-align: right;\n",
       "    }\n",
       "</style>\n",
       "<table border=\"1\" class=\"dataframe\">\n",
       "  <thead>\n",
       "    <tr style=\"text-align: right;\">\n",
       "      <th></th>\n",
       "      <th>file_name</th>\n",
       "      <th>emotion</th>\n",
       "      <th>emotion_intensity</th>\n",
       "      <th>statement</th>\n",
       "      <th>repetition</th>\n",
       "      <th>actor</th>\n",
       "    </tr>\n",
       "  </thead>\n",
       "  <tbody>\n",
       "    <tr>\n",
       "      <th>0</th>\n",
       "      <td>01-01-01-01-01-01-01.mp4</td>\n",
       "      <td>0</td>\n",
       "      <td>0</td>\n",
       "      <td>0</td>\n",
       "      <td>0</td>\n",
       "      <td>0</td>\n",
       "    </tr>\n",
       "    <tr>\n",
       "      <th>1</th>\n",
       "      <td>01-01-01-01-01-01-02.mp4</td>\n",
       "      <td>0</td>\n",
       "      <td>0</td>\n",
       "      <td>0</td>\n",
       "      <td>0</td>\n",
       "      <td>1</td>\n",
       "    </tr>\n",
       "    <tr>\n",
       "      <th>2</th>\n",
       "      <td>01-01-01-01-01-01-03.mp4</td>\n",
       "      <td>0</td>\n",
       "      <td>0</td>\n",
       "      <td>0</td>\n",
       "      <td>0</td>\n",
       "      <td>2</td>\n",
       "    </tr>\n",
       "    <tr>\n",
       "      <th>3</th>\n",
       "      <td>01-01-01-01-01-01-04.mp4</td>\n",
       "      <td>0</td>\n",
       "      <td>0</td>\n",
       "      <td>0</td>\n",
       "      <td>0</td>\n",
       "      <td>3</td>\n",
       "    </tr>\n",
       "    <tr>\n",
       "      <th>4</th>\n",
       "      <td>01-01-01-01-01-01-05.mp4</td>\n",
       "      <td>0</td>\n",
       "      <td>0</td>\n",
       "      <td>0</td>\n",
       "      <td>0</td>\n",
       "      <td>4</td>\n",
       "    </tr>\n",
       "    <tr>\n",
       "      <th>...</th>\n",
       "      <td>...</td>\n",
       "      <td>...</td>\n",
       "      <td>...</td>\n",
       "      <td>...</td>\n",
       "      <td>...</td>\n",
       "      <td>...</td>\n",
       "    </tr>\n",
       "    <tr>\n",
       "      <th>1435</th>\n",
       "      <td>01-01-08-02-02-02-20.mp4</td>\n",
       "      <td>7</td>\n",
       "      <td>1</td>\n",
       "      <td>1</td>\n",
       "      <td>1</td>\n",
       "      <td>19</td>\n",
       "    </tr>\n",
       "    <tr>\n",
       "      <th>1436</th>\n",
       "      <td>01-01-08-02-02-02-21.mp4</td>\n",
       "      <td>7</td>\n",
       "      <td>1</td>\n",
       "      <td>1</td>\n",
       "      <td>1</td>\n",
       "      <td>20</td>\n",
       "    </tr>\n",
       "    <tr>\n",
       "      <th>1437</th>\n",
       "      <td>01-01-08-02-02-02-22.mp4</td>\n",
       "      <td>7</td>\n",
       "      <td>1</td>\n",
       "      <td>1</td>\n",
       "      <td>1</td>\n",
       "      <td>21</td>\n",
       "    </tr>\n",
       "    <tr>\n",
       "      <th>1438</th>\n",
       "      <td>01-01-08-02-02-02-23.mp4</td>\n",
       "      <td>7</td>\n",
       "      <td>1</td>\n",
       "      <td>1</td>\n",
       "      <td>1</td>\n",
       "      <td>22</td>\n",
       "    </tr>\n",
       "    <tr>\n",
       "      <th>1439</th>\n",
       "      <td>01-01-08-02-02-02-24.mp4</td>\n",
       "      <td>7</td>\n",
       "      <td>1</td>\n",
       "      <td>1</td>\n",
       "      <td>1</td>\n",
       "      <td>23</td>\n",
       "    </tr>\n",
       "  </tbody>\n",
       "</table>\n",
       "<p>1440 rows × 6 columns</p>\n",
       "</div>"
      ],
      "text/plain": [
       "                     file_name  emotion  emotion_intensity  statement  \\\n",
       "0     01-01-01-01-01-01-01.mp4        0                  0          0   \n",
       "1     01-01-01-01-01-01-02.mp4        0                  0          0   \n",
       "2     01-01-01-01-01-01-03.mp4        0                  0          0   \n",
       "3     01-01-01-01-01-01-04.mp4        0                  0          0   \n",
       "4     01-01-01-01-01-01-05.mp4        0                  0          0   \n",
       "...                        ...      ...                ...        ...   \n",
       "1435  01-01-08-02-02-02-20.mp4        7                  1          1   \n",
       "1436  01-01-08-02-02-02-21.mp4        7                  1          1   \n",
       "1437  01-01-08-02-02-02-22.mp4        7                  1          1   \n",
       "1438  01-01-08-02-02-02-23.mp4        7                  1          1   \n",
       "1439  01-01-08-02-02-02-24.mp4        7                  1          1   \n",
       "\n",
       "      repetition  actor  \n",
       "0              0      0  \n",
       "1              0      1  \n",
       "2              0      2  \n",
       "3              0      3  \n",
       "4              0      4  \n",
       "...          ...    ...  \n",
       "1435           1     19  \n",
       "1436           1     20  \n",
       "1437           1     21  \n",
       "1438           1     22  \n",
       "1439           1     23  \n",
       "\n",
       "[1440 rows x 6 columns]"
      ]
     },
     "execution_count": 21,
     "metadata": {},
     "output_type": "execute_result"
    }
   ],
   "source": [
    "video_metadata"
   ]
  },
  {
   "cell_type": "code",
   "execution_count": 22,
   "metadata": {},
   "outputs": [
    {
     "data": {
      "text/html": [
       "<div>\n",
       "<style scoped>\n",
       "    .dataframe tbody tr th:only-of-type {\n",
       "        vertical-align: middle;\n",
       "    }\n",
       "\n",
       "    .dataframe tbody tr th {\n",
       "        vertical-align: top;\n",
       "    }\n",
       "\n",
       "    .dataframe thead th {\n",
       "        text-align: right;\n",
       "    }\n",
       "</style>\n",
       "<table border=\"1\" class=\"dataframe\">\n",
       "  <thead>\n",
       "    <tr style=\"text-align: right;\">\n",
       "      <th></th>\n",
       "      <th>file_name</th>\n",
       "      <th>emotion</th>\n",
       "      <th>emotion_intensity</th>\n",
       "      <th>statement</th>\n",
       "      <th>repetition</th>\n",
       "      <th>actor</th>\n",
       "      <th>frame</th>\n",
       "    </tr>\n",
       "  </thead>\n",
       "  <tbody>\n",
       "    <tr>\n",
       "      <th>0</th>\n",
       "      <td>01-01-01-01-01-01-01_33.png</td>\n",
       "      <td>0</td>\n",
       "      <td>0</td>\n",
       "      <td>0</td>\n",
       "      <td>0</td>\n",
       "      <td>0</td>\n",
       "      <td>33</td>\n",
       "    </tr>\n",
       "    <tr>\n",
       "      <th>1</th>\n",
       "      <td>01-01-01-01-01-01-01_34.png</td>\n",
       "      <td>0</td>\n",
       "      <td>0</td>\n",
       "      <td>0</td>\n",
       "      <td>0</td>\n",
       "      <td>0</td>\n",
       "      <td>34</td>\n",
       "    </tr>\n",
       "    <tr>\n",
       "      <th>2</th>\n",
       "      <td>01-01-01-01-01-01-01_35.png</td>\n",
       "      <td>0</td>\n",
       "      <td>0</td>\n",
       "      <td>0</td>\n",
       "      <td>0</td>\n",
       "      <td>0</td>\n",
       "      <td>35</td>\n",
       "    </tr>\n",
       "    <tr>\n",
       "      <th>3</th>\n",
       "      <td>01-01-01-01-01-01-01_36.png</td>\n",
       "      <td>0</td>\n",
       "      <td>0</td>\n",
       "      <td>0</td>\n",
       "      <td>0</td>\n",
       "      <td>0</td>\n",
       "      <td>36</td>\n",
       "    </tr>\n",
       "    <tr>\n",
       "      <th>4</th>\n",
       "      <td>01-01-01-01-01-01-01_37.png</td>\n",
       "      <td>0</td>\n",
       "      <td>0</td>\n",
       "      <td>0</td>\n",
       "      <td>0</td>\n",
       "      <td>0</td>\n",
       "      <td>37</td>\n",
       "    </tr>\n",
       "    <tr>\n",
       "      <th>...</th>\n",
       "      <td>...</td>\n",
       "      <td>...</td>\n",
       "      <td>...</td>\n",
       "      <td>...</td>\n",
       "      <td>...</td>\n",
       "      <td>...</td>\n",
       "      <td>...</td>\n",
       "    </tr>\n",
       "    <tr>\n",
       "      <th>29184</th>\n",
       "      <td>01-01-08-02-02-02-24_49.png</td>\n",
       "      <td>7</td>\n",
       "      <td>1</td>\n",
       "      <td>1</td>\n",
       "      <td>1</td>\n",
       "      <td>23</td>\n",
       "      <td>49</td>\n",
       "    </tr>\n",
       "    <tr>\n",
       "      <th>29185</th>\n",
       "      <td>01-01-08-02-02-02-24_50.png</td>\n",
       "      <td>7</td>\n",
       "      <td>1</td>\n",
       "      <td>1</td>\n",
       "      <td>1</td>\n",
       "      <td>23</td>\n",
       "      <td>50</td>\n",
       "    </tr>\n",
       "    <tr>\n",
       "      <th>29186</th>\n",
       "      <td>01-01-08-02-02-02-24_51.png</td>\n",
       "      <td>7</td>\n",
       "      <td>1</td>\n",
       "      <td>1</td>\n",
       "      <td>1</td>\n",
       "      <td>23</td>\n",
       "      <td>51</td>\n",
       "    </tr>\n",
       "    <tr>\n",
       "      <th>29187</th>\n",
       "      <td>01-01-08-02-02-02-24_52.png</td>\n",
       "      <td>7</td>\n",
       "      <td>1</td>\n",
       "      <td>1</td>\n",
       "      <td>1</td>\n",
       "      <td>23</td>\n",
       "      <td>52</td>\n",
       "    </tr>\n",
       "    <tr>\n",
       "      <th>29188</th>\n",
       "      <td>01-01-08-02-02-02-24_53.png</td>\n",
       "      <td>7</td>\n",
       "      <td>1</td>\n",
       "      <td>1</td>\n",
       "      <td>1</td>\n",
       "      <td>23</td>\n",
       "      <td>53</td>\n",
       "    </tr>\n",
       "  </tbody>\n",
       "</table>\n",
       "<p>29189 rows × 7 columns</p>\n",
       "</div>"
      ],
      "text/plain": [
       "                         file_name  emotion  emotion_intensity  statement  \\\n",
       "0      01-01-01-01-01-01-01_33.png        0                  0          0   \n",
       "1      01-01-01-01-01-01-01_34.png        0                  0          0   \n",
       "2      01-01-01-01-01-01-01_35.png        0                  0          0   \n",
       "3      01-01-01-01-01-01-01_36.png        0                  0          0   \n",
       "4      01-01-01-01-01-01-01_37.png        0                  0          0   \n",
       "...                            ...      ...                ...        ...   \n",
       "29184  01-01-08-02-02-02-24_49.png        7                  1          1   \n",
       "29185  01-01-08-02-02-02-24_50.png        7                  1          1   \n",
       "29186  01-01-08-02-02-02-24_51.png        7                  1          1   \n",
       "29187  01-01-08-02-02-02-24_52.png        7                  1          1   \n",
       "29188  01-01-08-02-02-02-24_53.png        7                  1          1   \n",
       "\n",
       "       repetition  actor  frame  \n",
       "0               0      0     33  \n",
       "1               0      0     34  \n",
       "2               0      0     35  \n",
       "3               0      0     36  \n",
       "4               0      0     37  \n",
       "...           ...    ...    ...  \n",
       "29184           1     23     49  \n",
       "29185           1     23     50  \n",
       "29186           1     23     51  \n",
       "29187           1     23     52  \n",
       "29188           1     23     53  \n",
       "\n",
       "[29189 rows x 7 columns]"
      ]
     },
     "execution_count": 22,
     "metadata": {},
     "output_type": "execute_result"
    }
   ],
   "source": [
    "frames_metadata"
   ]
  },
  {
   "cell_type": "code",
   "execution_count": 24,
   "metadata": {},
   "outputs": [
    {
     "data": {
      "text/plain": [
       "<Axes: xlabel='actor'>"
      ]
     },
     "execution_count": 24,
     "metadata": {},
     "output_type": "execute_result"
    },
    {
     "data": {
      "image/png": "[encoded data removed]",
      "text/plain": [
       "<Figure size 640x480 with 1 Axes>"
      ]
     },
     "metadata": {},
     "output_type": "display_data"
    }
   ],
   "source": [
    "# For each actor, get the number of emotions\n",
    "video_metadata.groupby('actor').emotion.value_counts().unstack().plot(kind='bar', stacked=True)"
   ]
  },
  {
   "cell_type": "code",
   "execution_count": 28,
   "metadata": {},
   "outputs": [
    {
     "data": {
      "text/plain": [
       "<Axes: xlabel='actor'>"
      ]
     },
     "execution_count": 28,
     "metadata": {},
     "output_type": "execute_result"
    },
    {
     "data": {
      "image/png": "[encoded data removed]",
      "text/plain": [
       "<Figure size 640x480 with 1 Axes>"
      ]
     },
     "metadata": {},
     "output_type": "display_data"
    }
   ],
   "source": [
    "# For each actor, get the number of emotions\n",
    "frames_metadata.groupby('actor').emotion.value_counts().unstack().plot(kind='bar', stacked=True)"
   ]
  },
  {
   "cell_type": "code",
   "execution_count": 29,
   "metadata": {},
   "outputs": [
    {
     "data": {
      "text/plain": [
       "<Axes: xlabel='actor'>"
      ]
     },
     "execution_count": 29,
     "metadata": {},
     "output_type": "execute_result"
    },
    {
     "data": {
      "image/png": "[encoded data removed]",
      "text/plain": [
       "<Figure size 640x480 with 1 Axes>"
      ]
     },
     "metadata": {},
     "output_type": "display_data"
    },
    {
     "data": {
      "image/png": "[encoded data removed]",
      "text/plain": [
       "<Figure size 640x480 with 1 Axes>"
      ]
     },
     "metadata": {},
     "output_type": "display_data"
    }
   ],
   "source": [
    "# Group in positive, neurtal and negative\n",
    "video_metadata['emotion'] = video_metadata['emotion'].replace(['4', '5', '6', '3'], '2')\n",
    "video_metadata['emotion'] = video_metadata['emotion'].replace(['2', '7'], '1')\n",
    "video_metadata['emotion'] = video_metadata['emotion'].replace(['1', '0'], '0')\n",
    "\n",
    "frames_metadata['emotion'] = frames_metadata['emotion'].replace(['4', '5', '6', '3'], '2')\n",
    "frames_metadata['emotion'] = frames_metadata['emotion'].replace(['2', '7'], '1')\n",
    "frames_metadata['emotion'] = frames_metadata['emotion'].replace(['1', '0'], '0')\n",
    "\n",
    "# For each actor, get the number of emotions\n",
    "video_metadata.groupby('actor').emotion.value_counts().unstack().plot(kind='bar', stacked=True)\n",
    "\n",
    "# For each actor, get the number of emotions\n",
    "frames_metadata.groupby('actor').emotion.value_counts().unstack().plot(kind='bar', stacked=True)"
   ]
  },
  {
   "cell_type": "code",
   "execution_count": 18,
   "metadata": {},
   "outputs": [
    {
     "name": "stdout",
     "output_type": "stream",
     "text": [
      "--Dataloader-- Splitting the dataset WITHOUT overlapping between subjects\n",
      "--Dataloader-- Subjects: [ 0  1  2  3  4  5  6  7  8  9 10 11 12 13 14 15 16 17 18 19 20 21 22 23]\n",
      "--Dataloader-- Splitting the dataset using n-1 subjects for train, 1 for val and 1 for test\n",
      "Train subjects: [ 0 18 11  9 13  1 21  5  2 12 15  3  4 22 17 20 23  7 10 14 19  6] \n",
      "Validation subjects: [8] \n",
      "Test subjects: [16]\n",
      "--Dataloader-- Using positive/negative labels mapping.\n",
      "--- Train emotions: [0 1 2] \n",
      "--- Validation emotions: [0 1 2] \n",
      "--- Test emotions: [0 1 2]\n"
     ]
    }
   ],
   "source": [
    "custom_dataloader = ravdess_custom_dataloader(csv_original_files=\"../\"+VIDEO_METADATA_CSV,\n",
    "                                    csv_frames_files=\"../\"+VIDEO_METADATA_FRAMES_CSV,\n",
    "                                    batch_size=BATCH_SIZE,\n",
    "                                    frames_dir=\"../\"+FRAMES_FILES_DIR,\n",
    "                                    seed=RANDOM_SEED,\n",
    "                                    limit=LIMIT,\n",
    "                                    overlap_subjects_frames=OVERLAP_SUBJECTS_FRAMES,\n",
    "                                    use_positive_negative_labels=USE_POSITIVE_NEGATIVE_LABELS,\n",
    "                                    preload_frames=PRELOAD_FRAMES,\n",
    "                                    apply_transformations=APPLY_TRANSFORMATIONS,\n",
    "                                    balance_dataset=BALANCE_DATASET,\n",
    "                                    normalize=NORMALIZE,\n",
    "                                )"
   ]
  },
  {
   "cell_type": "code",
   "execution_count": 13,
   "metadata": {},
   "outputs": [
    {
     "name": "stderr",
     "output_type": "stream",
     "text": [
      "c:\\Users\\danil\\Documents\\Repositories\\MI\\utils\\..\\datasets\\ravdess_custom_dataset.py:118: SettingWithCopyWarning: \n",
      "A value is trying to be set on a copy of a slice from a DataFrame.\n",
      "Try using .loc[row_indexer,col_indexer] = value instead\n",
      "\n",
      "See the caveats in the documentation: https://pandas.pydata.org/pandas-docs/stable/user_guide/indexing.html#returning-a-view-versus-a-copy\n",
      "  data.loc[aug_indices, \"augmented\"] = True\n",
      "c:\\Users\\danil\\Documents\\Repositories\\MI\\utils\\..\\datasets\\ravdess_custom_dataset.py:120: SettingWithCopyWarning: \n",
      "A value is trying to be set on a copy of a slice from a DataFrame\n",
      "\n",
      "See the caveats in the documentation: https://pandas.pydata.org/pandas-docs/stable/user_guide/indexing.html#returning-a-view-versus-a-copy\n",
      "  data.fillna({\"augmented\": False}, inplace=True)\n"
     ]
    },
    {
     "name": "stdout",
     "output_type": "stream",
     "text": [
      "--Data Balance-- balance_data set to True. Training data will be balanced.\n",
      "--Data Balance-- The most common class is 2 with 15159 frames files.\n",
      "--Data Balance (Oversampling)-- Adding 9740 to 0 class..\n",
      "--Data Balance (Oversampling)-- Adding 8719 to 1 class..\n",
      "--Data Preloading-- Preloading frames files.\n"
     ]
    },
    {
     "name": "stderr",
     "output_type": "stream",
     "text": [
      "100%|██████████| 27018/27018 [01:23<00:00, 324.07it/s]\n"
     ]
    },
    {
     "name": "stdout",
     "output_type": "stream",
     "text": [
      "--Dataset-- Train dataset size: 27018\n",
      "--Data Preloading-- Preloading frames files.\n"
     ]
    },
    {
     "name": "stderr",
     "output_type": "stream",
     "text": [
      "100%|██████████| 1044/1044 [00:03<00:00, 318.18it/s]\n"
     ]
    },
    {
     "name": "stdout",
     "output_type": "stream",
     "text": [
      "--Dataset-- Validation dataset size: 1044\n",
      "--Data Preloading-- Preloading frames files.\n"
     ]
    },
    {
     "name": "stderr",
     "output_type": "stream",
     "text": [
      "100%|██████████| 1127/1127 [00:03<00:00, 327.41it/s]"
     ]
    },
    {
     "name": "stdout",
     "output_type": "stream",
     "text": [
      "--Dataset-- Test dataset size: 1127\n"
     ]
    },
    {
     "name": "stderr",
     "output_type": "stream",
     "text": [
      "\n"
     ]
    }
   ],
   "source": [
    "train_loader = custom_dataloader.get_train_dataloader()\n",
    "val_loader = custom_dataloader.get_val_dataloader() \n",
    "test_loader = custom_dataloader.get_test_dataloader()"
   ]
  }
 ],
 "metadata": {
  "kernelspec": {
   "display_name": ".venv",
   "language": "python",
   "name": "python3"
  },
  "language_info": {
   "codemirror_mode": {
    "name": "ipython",
    "version": 3
   },
   "file_extension": ".py",
   "mimetype": "text/x-python",
   "name": "python",
   "nbconvert_exporter": "python",
   "pygments_lexer": "ipython3",
   "version": "3.12.2"
  }
 },
 "nbformat": 4,
 "nbformat_minor": 2
}
